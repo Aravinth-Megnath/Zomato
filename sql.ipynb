{
 "cells": [
  {
   "cell_type": "code",
   "execution_count": 2,
   "metadata": {},
   "outputs": [
    {
     "name": "stdout",
     "output_type": "stream",
     "text": [
      "Note: you may need to restart the kernel to use updated packages.\n"
     ]
    },
    {
     "name": "stderr",
     "output_type": "stream",
     "text": [
      "C:\\Users\\ARAVINTH\\AppData\\Local\\Microsoft\\WindowsApps\\python.exe: can't open file 'm:\\\\c': [Errno 2] No such file or directory\n"
     ]
    }
   ],
   "source": [
    "pip install pymysql"
   ]
  },
  {
   "cell_type": "markdown",
   "metadata": {},
   "source": [
    "# Connection creation"
   ]
  },
  {
   "cell_type": "code",
   "execution_count": 1,
   "metadata": {},
   "outputs": [],
   "source": [
    "import pymysql\n",
    "\n",
    "connection = pymysql.connect(host='localhost',\n",
    "    user='root',\n",
    "    password='Ta9ta6me@27',\n",
    "    charset='utf8mb4')\n",
    "\n",
    "cursor = connection.cursor()\n",
    "cursor.execute(\"CREATE DATABASE zomato_orders;\")\n",
    "connection.close()"
   ]
  },
  {
   "cell_type": "markdown",
   "metadata": {},
   "source": [
    "## Customer table creation"
   ]
  },
  {
   "cell_type": "code",
   "execution_count": 6,
   "metadata": {},
   "outputs": [],
   "source": [
    "query = 'create table zomato_orders.customers (customer_id int primary key, name varchar(255), \\\n",
    "    email varchar(255), phone varchar(255), location varchar(255), signup_date datetime, \\\n",
    "preferred_cuisine varchar(255), total_orders int, average_rating float \\\n",
    "        );'\n",
    "\n",
    "connection = pymysql.connect(host='localhost',\n",
    "    user='root',\n",
    "    password='Ta9ta6me@27',\n",
    "    charset='utf8mb4',\n",
    "    db='zomato_orders')\n",
    "\n",
    "cursor = connection.cursor()\n",
    "cursor.execute(query)\n",
    "connection.close()"
   ]
  },
  {
   "cell_type": "code",
   "execution_count": 21,
   "metadata": {},
   "outputs": [],
   "source": [
    "connection = pymysql.connect(host='localhost',\n",
    "    user='root',\n",
    "    password='Ta9ta6me@27',\n",
    "    charset='utf8mb4',\n",
    "    db='zomato_orders')\n",
    "\n",
    "cursor = connection.cursor()"
   ]
  },
  {
   "cell_type": "markdown",
   "metadata": {},
   "source": [
    "### Inserting values to the customer table from csv"
   ]
  },
  {
   "cell_type": "code",
   "execution_count": 11,
   "metadata": {},
   "outputs": [],
   "source": [
    "import pandas as pd\n",
    "customers = pd.read_csv('customers.csv')\n",
    "insert_query = \"insert into zomato_orders.customers (customer_id, name, email, phone, location,\\\n",
    "      signup_date, preferred_cuisine, total_orders, average_rating) values (%s, %s, %s, %s, %s, %s, %s, %s, %s)\"\n",
    "for index, row in customers.iterrows():\n",
    "    cursor.execute(insert_query, (row['customer_id'], row['name'],\n",
    "                                   row['email'], row['phone'], row['location'],\n",
    "                                     row['signup_date'], row['preferred_cuisine'],\n",
    "                                       row['total_orders'], row['average_rating']))\n",
    "\n",
    "connection.commit()"
   ]
  },
  {
   "cell_type": "markdown",
   "metadata": {},
   "source": [
    "## Restaurant Table creation"
   ]
  },
  {
   "cell_type": "markdown",
   "metadata": {},
   "source": [
    "Restaurants Table\n",
    "This table manages restaurant information.\n",
    "restaurant_id (Primary Key): Unique identifier for each restaurant.\n",
    "name: Restaurant name.\n",
    "cuisine_type: Primary cuisine type served (e.g., Indian, Chinese).\n",
    "location: Location of the restaurant.\n",
    "owner_name: Name of the restaurant owner.\n",
    "average_delivery_time: Average delivery time for this restaurant (in minutes).\n",
    "contact_number: Restaurant’s contact number.\n",
    "rating: Average customer rating of the restaurant (1-5 scale).\n",
    "total_orders: Total number of orders received by the restaurant.\n",
    "is_active: Boolean indicating if the restaurant is currently active on the platform."
   ]
  },
  {
   "cell_type": "code",
   "execution_count": 16,
   "metadata": {},
   "outputs": [],
   "source": [
    "query = \"create table zomato_orders.restaurants (restaurant_id int primary key, name varchar(255), \\\n",
    "    cuisine_type varchar(255), location varchar(255), owner_name varchar(255), \\\n",
    "        average_delivery_time int, contact_number varchar(255), rating float, \\\n",
    "            total_orders int, is_active int);\"\n",
    "\n",
    "cursor.execute(query)\n",
    "connection.commit()"
   ]
  },
  {
   "cell_type": "code",
   "execution_count": 17,
   "metadata": {},
   "outputs": [],
   "source": [
    "restaurants = pd.read_csv('restaurants.csv')\n",
    "insert_query = \"insert into zomato_orders.restaurants (restaurant_id, name, cuisine_type, location, \\\n",
    "    owner_name, average_delivery_time, contact_number, rating, total_orders, is_active) values (%s, %s, %s, %s, %s, %s, %s, %s, %s, %s)\"\n",
    "for index, row in restaurants.iterrows():\n",
    "    cursor.execute(insert_query, (row['restaurant_id'], row['name'],\n",
    "                                   row['cuisine_type'], row['location'],\n",
    "                                     row['owner_name'], row['average_delivery_time'],\n",
    "                                       row['contact_number'], row['rating'],\n",
    "                                         row['total_orders'], row['is_active']))\n",
    "\n",
    "connection.commit()"
   ]
  },
  {
   "cell_type": "markdown",
   "metadata": {},
   "source": [
    "## Orders Table Creation"
   ]
  },
  {
   "cell_type": "markdown",
   "metadata": {},
   "source": [
    "order_id (Primary Key): Unique identifier for each order.\n",
    "customer_id (Foreign Key): References the customer_id in the Customers table.\n",
    "restaurant_id (Foreign Key): References the restaurant_id in the Restaurants table.\n",
    "order_date: Date and time when the order was placed.\n",
    "delivery_time: Date and time when the order was delivered.\n",
    "status: Current status of the order (e.g., Pending, Delivered, Cancelled).\n",
    "total_amount: Total bill amount for the order.\n",
    "payment_mode: Payment mode used (e.g., Credit Card, Cash, UPI).\n",
    "discount_applied: Discount amount applied to the order.\n",
    "feedback_rating: Rating given by the customer for the order (1-5 scale)."
   ]
  },
  {
   "cell_type": "code",
   "execution_count": 18,
   "metadata": {},
   "outputs": [],
   "source": [
    "query = \"\"\"\n",
    "CREATE TABLE zomato_orders.orders (\n",
    "    order_id INT PRIMARY KEY,\n",
    "    customer_id INT,\n",
    "    restaurant_id INT,\n",
    "    order_date DATETIME,\n",
    "    delivery_time DATETIME,\n",
    "    status VARCHAR(255),\n",
    "    total_amount FLOAT,\n",
    "    payment_mode VARCHAR(255),\n",
    "    discount_applied FLOAT,\n",
    "    feedback_rating FLOAT,\n",
    "    FOREIGN KEY (customer_id) REFERENCES customers(customer_id),\n",
    "    FOREIGN KEY (restaurant_id) REFERENCES restaurants(restaurant_id)\n",
    ");\n",
    "\"\"\"\n",
    "\n",
    "\n",
    "cursor.execute(query)\n",
    "connection.commit()"
   ]
  },
  {
   "cell_type": "code",
   "execution_count": 19,
   "metadata": {},
   "outputs": [],
   "source": [
    "orders = pd.read_csv('orders.csv')\n",
    "insert_query = \"insert into zomato_orders.orders (order_id, customer_id, restaurant_id, order_date, \\\n",
    "    delivery_time, status, total_amount, payment_mode, discount_applied, feedback_rating) values (%s, %s, %s, %s, %s, %s, %s, %s, %s, %s)\"\n",
    "for index, row in orders.iterrows():\n",
    "    cursor.execute(insert_query, (row['order_id'], row['customer_id'],\n",
    "                                   row['restaurant_id'], row['order_date'],\n",
    "                                     row['delivery_time'], row['status'],\n",
    "                                       row['total_amount'], row['payment_mode'],\n",
    "                                         row['discount_applied'], row['feedback_rating']))\n",
    "\n",
    "connection.commit()"
   ]
  },
  {
   "cell_type": "markdown",
   "metadata": {},
   "source": [
    "## Delivery Table Creation"
   ]
  },
  {
   "cell_type": "markdown",
   "metadata": {},
   "source": [
    "delivery_id (Primary Key): Unique identifier for each delivery.\n",
    "order_id (Foreign Key): References the order_id in the Orders table.\n",
    "delivery_person_id (Foreign Key): References the delivery_person_id in a Delivery Persons table (if applicable).\n",
    "delivery_status: Current delivery status (e.g., On the way, Delivered).\n",
    "distance: Distance of delivery in kilometers.\n",
    "delivery_time: Actual time taken for delivery (in minutes).\n",
    "estimated_time: Estimated delivery time (in minutes).\n",
    "delivery_fee: Delivery fee charged for the order.\n",
    "vehicle_type: Type of vehicle used for delivery (e.g., Bike, Car)."
   ]
  },
  {
   "cell_type": "code",
   "execution_count": 27,
   "metadata": {},
   "outputs": [],
   "source": [
    "query = \"\"\"\n",
    "CREATE TABLE zomato_orders.delivery(\n",
    "    delivery_id INT PRIMARY KEY,delivery_status VARCHAR(255),\n",
    "    order_id INT,\n",
    "        FOREIGN KEY (order_id) REFERENCES zomato_orders.orders(order_id),\n",
    "        distance FLOAT,\n",
    "        delivery_time INT,\n",
    "        estimated_time INT,\n",
    "        delivery_fee FLOAT,\n",
    "        vehicle_type VARCHAR(255)\n",
    ");\n",
    "\"\"\"\n",
    "cursor.execute(query)\n",
    "connection.commit()\n"
   ]
  },
  {
   "cell_type": "code",
   "execution_count": 28,
   "metadata": {},
   "outputs": [],
   "source": [
    "deliveries = pd.read_csv('deliveries.csv')\n",
    "insert_query = \"insert into zomato_orders.delivery (delivery_id, delivery_status, order_id, \\\n",
    "    distance, delivery_time, estimated_time, delivery_fee, vehicle_type) values (%s, %s, %s, %s, %s, %s, %s, %s)\"\n",
    "for index, row in deliveries.iterrows():\n",
    "    cursor.execute(insert_query, (row['delivery_id'], row['delivery_status'],\n",
    "                                   row['order_id'], row['distance'],\n",
    "                                     row['delivery_time'], row['estimated_time'],\n",
    "                                       row['delivery_fee'], row['vehicle_type']))\n",
    "\n",
    "connection.commit()"
   ]
  },
  {
   "cell_type": "code",
   "execution_count": null,
   "metadata": {},
   "outputs": [],
   "source": []
  }
 ],
 "metadata": {
  "kernelspec": {
   "display_name": ".venv",
   "language": "python",
   "name": "python3"
  },
  "language_info": {
   "codemirror_mode": {
    "name": "ipython",
    "version": 3
   },
   "file_extension": ".py",
   "mimetype": "text/x-python",
   "name": "python",
   "nbconvert_exporter": "python",
   "pygments_lexer": "ipython3",
   "version": "3.11.5"
  }
 },
 "nbformat": 4,
 "nbformat_minor": 2
}
