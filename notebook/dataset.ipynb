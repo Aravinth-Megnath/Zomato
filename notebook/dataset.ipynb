{
 "cells": [
  {
   "cell_type": "code",
   "execution_count": 1,
   "metadata": {},
   "outputs": [],
   "source": [
    "import sqlite3\n",
    "import pandas as pd\n",
    "from faker import Faker\n",
    "import random\n",
    "from datetime import datetime, timedelta\n"
   ]
  },
  {
   "cell_type": "code",
   "execution_count": 2,
   "metadata": {},
   "outputs": [],
   "source": [
    "# Initialize Faker for generating synthetic data\n",
    "faker = Faker()\n",
    "\n",
    "# Number of records for each table\n",
    "NUM_CUSTOMERS = 50\n",
    "NUM_RESTAURANTS = 20\n",
    "NUM_ORDERS = 100\n",
    "NUM_DELIVERIES = 100\n",
    "NUM_DELIVERY_PERSONS = 15"
   ]
  },
  {
   "cell_type": "code",
   "execution_count": 3,
   "metadata": {},
   "outputs": [],
   "source": [
    "# Function to generate Customers dataset\n",
    "def generate_customers(num_records):\n",
    "    customers = []\n",
    "    for _ in range(num_records):\n",
    "        customers.append({\n",
    "            \"customer_id\": _ + 1,\n",
    "            \"name\": faker.name(),\n",
    "            \"email\": faker.email(),\n",
    "            \"phone\": faker.phone_number(),\n",
    "            \"location\": faker.address(),\n",
    "            \"signup_date\": faker.date_between(start_date=\"-2y\", end_date=\"today\"),\n",
    "            \"is_premium\": random.choice([0, 1]),\n",
    "            \"preferred_cuisine\": random.choice([\"Indian\", \"Chinese\", \"Italian\", \"Mexican\", \"Thai\"]),\n",
    "            \"total_orders\": random.randint(0, 50),\n",
    "            \"average_rating\": round(random.uniform(3.0, 5.0), 1),\n",
    "        })\n",
    "    return pd.DataFrame(customers)"
   ]
  },
  {
   "cell_type": "code",
   "execution_count": 4,
   "metadata": {},
   "outputs": [],
   "source": [
    "# Function to generate Restaurants dataset\n",
    "def generate_restaurants(num_records):\n",
    "    restaurants = []\n",
    "    for _ in range(num_records):\n",
    "        restaurants.append({\n",
    "            \"restaurant_id\": _ + 1,\n",
    "            \"name\": faker.company(),\n",
    "            \"cuisine_type\": random.choice([\"Indian\", \"Chinese\", \"Italian\", \"Mexican\", \"Thai\"]),\n",
    "            \"location\": faker.address(),\n",
    "            \"owner_name\": faker.name(),\n",
    "            \"average_delivery_time\": random.randint(20, 45),\n",
    "            \"contact_number\": faker.phone_number(),\n",
    "            \"rating\": round(random.uniform(3.0, 5.0), 1),\n",
    "            \"total_orders\": random.randint(0, 1000),\n",
    "            \"is_active\": random.choice([0, 1]),\n",
    "        })\n",
    "    return pd.DataFrame(restaurants)"
   ]
  },
  {
   "cell_type": "code",
   "execution_count": 5,
   "metadata": {},
   "outputs": [],
   "source": [
    "# Function to generate Orders dataset\n",
    "def generate_orders(num_records, num_customers, num_restaurants):\n",
    "    orders = []\n",
    "    for _ in range(num_records):\n",
    "        orders.append({\n",
    "            \"order_id\": _ + 1,\n",
    "            \"customer_id\": random.randint(1, num_customers),\n",
    "            \"restaurant_id\": random.randint(1, num_restaurants),\n",
    "            \"order_date\": faker.date_time_between(start_date=\"-1y\", end_date=\"now\"),\n",
    "            \"delivery_time\": faker.date_time_between(start_date=\"now\", end_date=\"+2h\"),\n",
    "            \"status\": random.choice([\"Pending\", \"Delivered\", \"Cancelled\"]),\n",
    "            \"total_amount\": round(random.uniform(100.0, 2000.0), 2),\n",
    "            \"payment_mode\": random.choice([\"Credit Card\", \"Cash\", \"UPI\", \"Wallet\"]),\n",
    "            \"discount_applied\": round(random.uniform(0.0, 500.0), 2),\n",
    "            \"feedback_rating\": round(random.uniform(3.0, 5.0), 1),\n",
    "        })\n",
    "    return pd.DataFrame(orders)"
   ]
  },
  {
   "cell_type": "code",
   "execution_count": 6,
   "metadata": {},
   "outputs": [],
   "source": [
    "# Function to generate Deliveries dataset\n",
    "def generate_deliveries(num_records, num_orders):\n",
    "    deliveries = []\n",
    "    for _ in range(num_records):\n",
    "        deliveries.append({\n",
    "            \"delivery_id\": _ + 1,\n",
    "            \"order_id\": random.randint(1, num_orders),\n",
    "            \"delivery_status\": random.choice([\"On the way\", \"Delivered\", \"Failed\"]),\n",
    "            \"distance\": round(random.uniform(1.0, 20.0), 2),\n",
    "            \"delivery_time\": random.randint(20, 120),\n",
    "            \"estimated_time\": random.randint(15, 60),\n",
    "            \"delivery_fee\": round(random.uniform(10.0, 100.0), 2),\n",
    "            \"vehicle_type\": random.choice([\"Bike\", \"Car\", \"Scooter\"]),\n",
    "        })\n",
    "    return pd.DataFrame(deliveries)\n"
   ]
  },
  {
   "cell_type": "code",
   "execution_count": 7,
   "metadata": {},
   "outputs": [],
   "source": [
    "# Function to generate Delivery Persons dataset\n",
    "def generate_delivery_persons(num_records):\n",
    "    delivery_persons = []\n",
    "    for _ in range(num_records):\n",
    "        delivery_persons.append({\n",
    "            \"delivery_person_id\": _ + 1,\n",
    "            \"name\": faker.name(),\n",
    "            \"contact_number\": faker.phone_number(),\n",
    "            \"vehicle_type\": random.choice([\"Bike\", \"Car\", \"Scooter\"]),\n",
    "            \"total_deliveries\": random.randint(0, 500),\n",
    "            \"average_rating\": round(random.uniform(3.0, 5.0), 1),\n",
    "            \"location\": faker.city(),\n",
    "        })\n",
    "    return pd.DataFrame(delivery_persons)\n"
   ]
  },
  {
   "cell_type": "code",
   "execution_count": 8,
   "metadata": {},
   "outputs": [],
   "source": [
    "# Generate datasets\n",
    "customers_df = generate_customers(NUM_CUSTOMERS)\n",
    "restaurants_df = generate_restaurants(NUM_RESTAURANTS)\n",
    "orders_df = generate_orders(NUM_ORDERS, NUM_CUSTOMERS, NUM_RESTAURANTS)\n",
    "deliveries_df = generate_deliveries(NUM_DELIVERIES, NUM_ORDERS)\n",
    "delivery_persons_df = generate_delivery_persons(NUM_DELIVERY_PERSONS)"
   ]
  },
  {
   "cell_type": "code",
   "execution_count": 10,
   "metadata": {},
   "outputs": [],
   "source": [
    "customers_df.to_csv('customers.csv', index=False)\n",
    "restaurants_df.to_csv('restaurants.csv', index=False)\n",
    "orders_df.to_csv('orders.csv', index=False)\n",
    "deliveries_df.to_csv('deliveries.csv', index=False)\n",
    "delivery_persons_df.to_csv('delivery_persons.csv', index=False)\n"
   ]
  },
  {
   "cell_type": "code",
   "execution_count": 16,
   "metadata": {},
   "outputs": [
    {
     "data": {
      "text/plain": [
       "(100, 8)"
      ]
     },
     "execution_count": 16,
     "metadata": {},
     "output_type": "execute_result"
    }
   ],
   "source": [
    "deliveries_df.shape"
   ]
  },
  {
   "cell_type": "code",
   "execution_count": null,
   "metadata": {},
   "outputs": [],
   "source": []
  }
 ],
 "metadata": {
  "kernelspec": {
   "display_name": ".venv",
   "language": "python",
   "name": "python3"
  },
  "language_info": {
   "codemirror_mode": {
    "name": "ipython",
    "version": 3
   },
   "file_extension": ".py",
   "mimetype": "text/x-python",
   "name": "python",
   "nbconvert_exporter": "python",
   "pygments_lexer": "ipython3",
   "version": "3.11.5"
  }
 },
 "nbformat": 4,
 "nbformat_minor": 2
}
